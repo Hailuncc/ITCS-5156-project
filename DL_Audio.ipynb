{
  "nbformat": 4,
  "nbformat_minor": 0,
  "metadata": {
    "colab": {
      "provenance": []
    },
    "kernelspec": {
      "name": "python3",
      "display_name": "Python 3"
    },
    "language_info": {
      "name": "python"
    },
    "accelerator": "GPU",
    "gpuClass": "standard"
  },
  "cells": [
    {
      "cell_type": "code",
      "source": [
        "import os"
      ],
      "metadata": {
        "id": "67DMb705nrzJ"
      },
      "execution_count": null,
      "outputs": []
    },
    {
      "cell_type": "code",
      "source": [
        "#using GTZAN dataset\n",
        "from google.colab import drive\n",
        "drive.mount('/content/drive') "
      ],
      "metadata": {
        "colab": {
          "base_uri": "https://localhost:8080/"
        },
        "id": "mW6VUL8VnsbD",
        "outputId": "6cc210eb-e709-43f1-96eb-3b42216c7edc"
      },
      "execution_count": null,
      "outputs": [
        {
          "output_type": "stream",
          "name": "stdout",
          "text": [
            "Mounted at /content/drive\n"
          ]
        }
      ]
    },
    {
      "cell_type": "code",
      "source": [
        "cd '/content/drive/My Drive/Grad-Spring/ITCS-5156/'"
      ],
      "metadata": {
        "colab": {
          "base_uri": "https://localhost:8080/"
        },
        "id": "yuzP1gY1nsd5",
        "outputId": "694a2a87-353c-4cce-a4d0-7ea2ced91d3c"
      },
      "execution_count": null,
      "outputs": [
        {
          "output_type": "stream",
          "name": "stdout",
          "text": [
            "/content/drive/My Drive/Grad-Spring/ITCS-5156\n"
          ]
        }
      ]
    },
    {
      "cell_type": "code",
      "source": [],
      "metadata": {
        "id": "DDyoLZAxnwai"
      },
      "execution_count": null,
      "outputs": []
    },
    {
      "cell_type": "code",
      "execution_count": null,
      "metadata": {
        "id": "oIwbPTcuniSw"
      },
      "outputs": [],
      "source": [
        "import json\n",
        "import numpy as np\n",
        "from sklearn.model_selection import train_test_split\n",
        "import tensorflow.keras as keras\n",
        "\n",
        "# path to json file that stores MFCCs and genre labels for each processed segment\n",
        "DATA_PATH = \"/content/drive/My Drive/Grad-Spring/ITCS-5156/data_10.json\"\n",
        "\n",
        "def load_data(data_path):\n",
        "    \"\"\"Loads training dataset from json file.\n",
        "        :param data_path (str): Path to json file containing data\n",
        "        :return X (ndarray): Inputs\n",
        "        :return y (ndarray): Targets\n",
        "    \"\"\"\n",
        "\n",
        "    with open(data_path, \"r\") as fp:\n",
        "        data = json.load(fp)\n",
        "\n",
        "    # convert lists to numpy arrays\n",
        "    X = np.array(data[\"mfcc\"])\n",
        "    y = np.array(data[\"labels\"])\n",
        "\n",
        "    print(\"Data succesfully loaded!\")\n",
        "\n",
        "    return  X, y"
      ]
    },
    {
      "cell_type": "code",
      "source": [
        "# load data\n",
        "X, y = load_data(DATA_PATH)\n",
        "\n",
        "# create train/test split\n",
        "X_train, X_test, y_train, y_test = train_test_split(X, y, test_size=0.3)\n",
        "\n",
        "# build network topology\n",
        "model = keras.Sequential([\n",
        "\n",
        "    # input layer\n",
        "    keras.layers.Flatten(input_shape=(X.shape[1], X.shape[2])),\n",
        "\n",
        "    # 1st dense layer\n",
        "    keras.layers.Dense(512, activation='relu'),\n",
        "\n",
        "    # 2nd dense layer\n",
        "    keras.layers.Dense(256, activation='relu'),\n",
        "\n",
        "    # 3rd dense layer\n",
        "    keras.layers.Dense(64, activation='relu'),\n",
        "\n",
        "    # output layer\n",
        "    keras.layers.Dense(10, activation='softmax')\n",
        "])\n",
        "\n",
        "# compile model\n",
        "optimiser = keras.optimizers.Adam(learning_rate=0.0001)\n",
        "model.compile(optimizer=optimiser,\n",
        "              loss='sparse_categorical_crossentropy',\n",
        "              metrics=['accuracy'])\n",
        "\n",
        "model.summary()\n",
        "\n",
        "# train model\n",
        "history = model.fit(X_train, y_train, validation_data=(X_test, y_test), batch_size=32, epochs=50)"
      ],
      "metadata": {
        "colab": {
          "base_uri": "https://localhost:8080/"
        },
        "id": "278E0CEfnnxf",
        "outputId": "2eda9090-f27c-4ffe-f5e0-fc01cdb29bcc"
      },
      "execution_count": null,
      "outputs": [
        {
          "output_type": "stream",
          "name": "stdout",
          "text": [
            "Data succesfully loaded!\n",
            "Model: \"sequential\"\n",
            "_________________________________________________________________\n",
            " Layer (type)                Output Shape              Param #   \n",
            "=================================================================\n",
            " flatten (Flatten)           (None, 1690)              0         \n",
            "                                                                 \n",
            " dense (Dense)               (None, 512)               865792    \n",
            "                                                                 \n",
            " dense_1 (Dense)             (None, 256)               131328    \n",
            "                                                                 \n",
            " dense_2 (Dense)             (None, 64)                16448     \n",
            "                                                                 \n",
            " dense_3 (Dense)             (None, 10)                650       \n",
            "                                                                 \n",
            "=================================================================\n",
            "Total params: 1,014,218\n",
            "Trainable params: 1,014,218\n",
            "Non-trainable params: 0\n",
            "_________________________________________________________________\n",
            "Epoch 1/50\n",
            "219/219 [==============================] - 7s 7ms/step - loss: 9.1935 - accuracy: 0.3358 - val_loss: 5.1519 - val_accuracy: 0.3755\n",
            "Epoch 2/50\n",
            "219/219 [==============================] - 1s 5ms/step - loss: 3.7597 - accuracy: 0.4449 - val_loss: 3.8971 - val_accuracy: 0.3795\n",
            "Epoch 3/50\n",
            "219/219 [==============================] - 1s 4ms/step - loss: 2.5222 - accuracy: 0.4883 - val_loss: 3.1438 - val_accuracy: 0.4326\n",
            "Epoch 4/50\n",
            "219/219 [==============================] - 1s 4ms/step - loss: 1.9507 - accuracy: 0.5342 - val_loss: 2.7500 - val_accuracy: 0.4446\n",
            "Epoch 5/50\n",
            "219/219 [==============================] - 1s 4ms/step - loss: 1.5542 - accuracy: 0.5803 - val_loss: 2.5898 - val_accuracy: 0.4593\n",
            "Epoch 6/50\n",
            "219/219 [==============================] - 1s 5ms/step - loss: 1.2863 - accuracy: 0.6242 - val_loss: 2.5367 - val_accuracy: 0.4703\n",
            "Epoch 7/50\n",
            "219/219 [==============================] - 1s 5ms/step - loss: 1.1429 - accuracy: 0.6621 - val_loss: 2.4473 - val_accuracy: 0.4713\n",
            "Epoch 8/50\n",
            "219/219 [==============================] - 1s 4ms/step - loss: 0.9348 - accuracy: 0.6996 - val_loss: 2.3885 - val_accuracy: 0.4686\n",
            "Epoch 9/50\n",
            "219/219 [==============================] - 1s 4ms/step - loss: 0.8399 - accuracy: 0.7263 - val_loss: 2.3208 - val_accuracy: 0.4967\n",
            "Epoch 10/50\n",
            "219/219 [==============================] - 1s 4ms/step - loss: 0.7373 - accuracy: 0.7542 - val_loss: 2.3317 - val_accuracy: 0.5040\n",
            "Epoch 11/50\n",
            "219/219 [==============================] - 1s 4ms/step - loss: 0.6732 - accuracy: 0.7760 - val_loss: 2.3930 - val_accuracy: 0.4856\n",
            "Epoch 12/50\n",
            "219/219 [==============================] - 1s 4ms/step - loss: 0.5919 - accuracy: 0.8034 - val_loss: 2.2636 - val_accuracy: 0.5080\n",
            "Epoch 13/50\n",
            "219/219 [==============================] - 1s 6ms/step - loss: 0.5402 - accuracy: 0.8176 - val_loss: 2.2778 - val_accuracy: 0.5180\n",
            "Epoch 14/50\n",
            "219/219 [==============================] - 1s 6ms/step - loss: 0.4647 - accuracy: 0.8409 - val_loss: 2.2260 - val_accuracy: 0.5317\n",
            "Epoch 15/50\n",
            "219/219 [==============================] - 1s 6ms/step - loss: 0.4295 - accuracy: 0.8601 - val_loss: 2.3697 - val_accuracy: 0.5113\n",
            "Epoch 16/50\n",
            "219/219 [==============================] - 1s 5ms/step - loss: 0.3875 - accuracy: 0.8734 - val_loss: 2.3665 - val_accuracy: 0.5320\n",
            "Epoch 17/50\n",
            "219/219 [==============================] - 1s 5ms/step - loss: 0.3493 - accuracy: 0.8823 - val_loss: 2.2958 - val_accuracy: 0.5344\n",
            "Epoch 18/50\n",
            "219/219 [==============================] - 1s 5ms/step - loss: 0.2963 - accuracy: 0.8994 - val_loss: 2.3655 - val_accuracy: 0.5411\n",
            "Epoch 19/50\n",
            "219/219 [==============================] - 1s 5ms/step - loss: 0.2709 - accuracy: 0.9102 - val_loss: 2.5055 - val_accuracy: 0.5357\n",
            "Epoch 20/50\n",
            "219/219 [==============================] - 1s 4ms/step - loss: 0.3227 - accuracy: 0.8916 - val_loss: 2.3301 - val_accuracy: 0.5531\n",
            "Epoch 21/50\n",
            "219/219 [==============================] - 1s 4ms/step - loss: 0.2851 - accuracy: 0.8994 - val_loss: 2.4448 - val_accuracy: 0.5441\n",
            "Epoch 22/50\n",
            "219/219 [==============================] - 1s 4ms/step - loss: 0.2887 - accuracy: 0.9044 - val_loss: 2.4287 - val_accuracy: 0.5514\n",
            "Epoch 23/50\n",
            "219/219 [==============================] - 1s 4ms/step - loss: 0.2038 - accuracy: 0.9309 - val_loss: 2.3658 - val_accuracy: 0.5668\n",
            "Epoch 24/50\n",
            "219/219 [==============================] - 1s 4ms/step - loss: 0.2752 - accuracy: 0.9155 - val_loss: 2.4536 - val_accuracy: 0.5284\n",
            "Epoch 25/50\n",
            "219/219 [==============================] - 1s 4ms/step - loss: 0.3300 - accuracy: 0.8930 - val_loss: 2.5629 - val_accuracy: 0.5447\n",
            "Epoch 26/50\n",
            "219/219 [==============================] - 1s 6ms/step - loss: 0.2197 - accuracy: 0.9255 - val_loss: 2.4551 - val_accuracy: 0.5634\n",
            "Epoch 27/50\n",
            "219/219 [==============================] - 1s 6ms/step - loss: 0.1821 - accuracy: 0.9431 - val_loss: 2.3975 - val_accuracy: 0.5788\n",
            "Epoch 28/50\n",
            "219/219 [==============================] - 1s 6ms/step - loss: 0.1845 - accuracy: 0.9393 - val_loss: 2.4653 - val_accuracy: 0.5718\n",
            "Epoch 29/50\n",
            "219/219 [==============================] - 1s 4ms/step - loss: 0.1364 - accuracy: 0.9557 - val_loss: 2.6971 - val_accuracy: 0.5594\n",
            "Epoch 30/50\n",
            "219/219 [==============================] - 1s 4ms/step - loss: 0.1107 - accuracy: 0.9671 - val_loss: 2.4193 - val_accuracy: 0.5801\n",
            "Epoch 31/50\n",
            "219/219 [==============================] - 1s 4ms/step - loss: 0.1579 - accuracy: 0.9492 - val_loss: 2.6087 - val_accuracy: 0.5574\n",
            "Epoch 32/50\n",
            "219/219 [==============================] - 1s 4ms/step - loss: 0.2415 - accuracy: 0.9236 - val_loss: 2.5578 - val_accuracy: 0.5607\n",
            "Epoch 33/50\n",
            "219/219 [==============================] - 1s 4ms/step - loss: 0.1668 - accuracy: 0.9443 - val_loss: 2.6264 - val_accuracy: 0.5484\n",
            "Epoch 34/50\n",
            "219/219 [==============================] - 1s 4ms/step - loss: 0.1834 - accuracy: 0.9395 - val_loss: 2.7271 - val_accuracy: 0.5761\n",
            "Epoch 35/50\n",
            "219/219 [==============================] - 1s 4ms/step - loss: 0.1468 - accuracy: 0.9508 - val_loss: 2.6064 - val_accuracy: 0.5858\n",
            "Epoch 36/50\n",
            "219/219 [==============================] - 1s 5ms/step - loss: 0.1132 - accuracy: 0.9639 - val_loss: 2.6162 - val_accuracy: 0.5848\n",
            "Epoch 37/50\n",
            "219/219 [==============================] - 1s 5ms/step - loss: 0.0605 - accuracy: 0.9840 - val_loss: 2.5873 - val_accuracy: 0.5995\n",
            "Epoch 38/50\n",
            "219/219 [==============================] - 1s 5ms/step - loss: 0.1002 - accuracy: 0.9685 - val_loss: 2.8823 - val_accuracy: 0.5721\n",
            "Epoch 39/50\n",
            "219/219 [==============================] - 1s 5ms/step - loss: 0.3040 - accuracy: 0.9084 - val_loss: 2.8671 - val_accuracy: 0.5681\n",
            "Epoch 40/50\n",
            "219/219 [==============================] - 1s 5ms/step - loss: 0.2095 - accuracy: 0.9320 - val_loss: 2.6569 - val_accuracy: 0.5888\n",
            "Epoch 41/50\n",
            "219/219 [==============================] - 1s 6ms/step - loss: 0.0746 - accuracy: 0.9781 - val_loss: 2.5065 - val_accuracy: 0.6028\n",
            "Epoch 42/50\n",
            "219/219 [==============================] - 1s 4ms/step - loss: 0.0360 - accuracy: 0.9898 - val_loss: 2.6490 - val_accuracy: 0.5948\n",
            "Epoch 43/50\n",
            "219/219 [==============================] - 1s 4ms/step - loss: 0.0481 - accuracy: 0.9863 - val_loss: 2.5860 - val_accuracy: 0.5971\n",
            "Epoch 44/50\n",
            "219/219 [==============================] - 1s 4ms/step - loss: 0.0856 - accuracy: 0.9754 - val_loss: 2.7524 - val_accuracy: 0.5864\n",
            "Epoch 45/50\n",
            "219/219 [==============================] - 1s 5ms/step - loss: 0.0834 - accuracy: 0.9738 - val_loss: 2.9695 - val_accuracy: 0.5684\n",
            "Epoch 46/50\n",
            "219/219 [==============================] - 1s 5ms/step - loss: 0.2491 - accuracy: 0.9170 - val_loss: 2.6516 - val_accuracy: 0.5911\n",
            "Epoch 47/50\n",
            "219/219 [==============================] - 1s 4ms/step - loss: 0.1595 - accuracy: 0.9518 - val_loss: 2.7554 - val_accuracy: 0.5951\n",
            "Epoch 48/50\n",
            "219/219 [==============================] - 1s 5ms/step - loss: 0.0850 - accuracy: 0.9734 - val_loss: 2.9346 - val_accuracy: 0.5758\n",
            "Epoch 49/50\n",
            "219/219 [==============================] - 1s 4ms/step - loss: 0.0784 - accuracy: 0.9740 - val_loss: 2.8712 - val_accuracy: 0.6088\n",
            "Epoch 50/50\n",
            "219/219 [==============================] - 1s 4ms/step - loss: 0.0823 - accuracy: 0.9744 - val_loss: 2.7409 - val_accuracy: 0.6145\n"
          ]
        }
      ]
    },
    {
      "cell_type": "code",
      "source": [
        "# compile model\n",
        "optimiser = keras.optimizers.Adam(learning_rate=0.0001)\n",
        "model.compile(optimizer=optimiser,\n",
        "              loss='sparse_categorical_crossentropy',\n",
        "              metrics=['accuracy'])"
      ],
      "metadata": {
        "id": "5JSBP49Un4vH"
      },
      "execution_count": null,
      "outputs": []
    },
    {
      "cell_type": "code",
      "source": [
        "model.summary()"
      ],
      "metadata": {
        "colab": {
          "base_uri": "https://localhost:8080/"
        },
        "id": "htjWka_5prEW",
        "outputId": "47f1aeac-0c5c-4f99-8ec5-51a3ea4ec290"
      },
      "execution_count": null,
      "outputs": [
        {
          "output_type": "stream",
          "name": "stdout",
          "text": [
            "Model: \"sequential\"\n",
            "_________________________________________________________________\n",
            " Layer (type)                Output Shape              Param #   \n",
            "=================================================================\n",
            " flatten (Flatten)           (None, 1690)              0         \n",
            "                                                                 \n",
            " dense (Dense)               (None, 512)               865792    \n",
            "                                                                 \n",
            " dense_1 (Dense)             (None, 256)               131328    \n",
            "                                                                 \n",
            " dense_2 (Dense)             (None, 64)                16448     \n",
            "                                                                 \n",
            " dense_3 (Dense)             (None, 10)                650       \n",
            "                                                                 \n",
            "=================================================================\n",
            "Total params: 1,014,218\n",
            "Trainable params: 1,014,218\n",
            "Non-trainable params: 0\n",
            "_________________________________________________________________\n"
          ]
        }
      ]
    },
    {
      "cell_type": "code",
      "source": [
        "\n",
        "# train model\n",
        "history = model.fit(X_train, y_train, validation_data=(X_test, y_test), batch_size=32, epochs=50)"
      ],
      "metadata": {
        "colab": {
          "base_uri": "https://localhost:8080/"
        },
        "id": "W-z1biRIpt5H",
        "outputId": "c72a018a-3282-45d8-e11a-9a999726e82f"
      },
      "execution_count": null,
      "outputs": [
        {
          "output_type": "stream",
          "name": "stdout",
          "text": [
            "Epoch 1/50\n",
            "219/219 [==============================] - 3s 7ms/step - loss: 0.1127 - accuracy: 0.9641 - val_loss: 3.0508 - val_accuracy: 0.5841\n",
            "Epoch 2/50\n",
            "219/219 [==============================] - 1s 6ms/step - loss: 0.1365 - accuracy: 0.9575 - val_loss: 2.9123 - val_accuracy: 0.5935\n",
            "Epoch 3/50\n",
            "219/219 [==============================] - 1s 6ms/step - loss: 0.0759 - accuracy: 0.9735 - val_loss: 3.0177 - val_accuracy: 0.5908\n",
            "Epoch 4/50\n",
            "219/219 [==============================] - 1s 5ms/step - loss: 0.0548 - accuracy: 0.9834 - val_loss: 2.9015 - val_accuracy: 0.6048\n",
            "Epoch 5/50\n",
            "219/219 [==============================] - 1s 5ms/step - loss: 0.0744 - accuracy: 0.9763 - val_loss: 2.9841 - val_accuracy: 0.5878\n",
            "Epoch 6/50\n",
            "219/219 [==============================] - 1s 5ms/step - loss: 0.1355 - accuracy: 0.9557 - val_loss: 3.5275 - val_accuracy: 0.5524\n",
            "Epoch 7/50\n",
            "219/219 [==============================] - 1s 5ms/step - loss: 0.1651 - accuracy: 0.9506 - val_loss: 3.1517 - val_accuracy: 0.5831\n",
            "Epoch 8/50\n",
            "219/219 [==============================] - 1s 4ms/step - loss: 0.0615 - accuracy: 0.9808 - val_loss: 2.8644 - val_accuracy: 0.6098\n",
            "Epoch 9/50\n",
            "219/219 [==============================] - 1s 4ms/step - loss: 0.0256 - accuracy: 0.9936 - val_loss: 2.9568 - val_accuracy: 0.6115\n",
            "Epoch 10/50\n",
            "219/219 [==============================] - 1s 4ms/step - loss: 0.0146 - accuracy: 0.9969 - val_loss: 3.0076 - val_accuracy: 0.6178\n",
            "Epoch 11/50\n",
            "219/219 [==============================] - 1s 5ms/step - loss: 0.0270 - accuracy: 0.9917 - val_loss: 2.8911 - val_accuracy: 0.6098\n",
            "Epoch 12/50\n",
            "219/219 [==============================] - 1s 4ms/step - loss: 0.4586 - accuracy: 0.8941 - val_loss: 3.5418 - val_accuracy: 0.5554\n",
            "Epoch 13/50\n",
            "219/219 [==============================] - 1s 5ms/step - loss: 0.1578 - accuracy: 0.9498 - val_loss: 3.1145 - val_accuracy: 0.5945\n",
            "Epoch 14/50\n",
            "219/219 [==============================] - 1s 5ms/step - loss: 0.0351 - accuracy: 0.9887 - val_loss: 2.7827 - val_accuracy: 0.6238\n",
            "Epoch 15/50\n",
            "219/219 [==============================] - 1s 6ms/step - loss: 0.0341 - accuracy: 0.9904 - val_loss: 2.9149 - val_accuracy: 0.6288\n",
            "Epoch 16/50\n",
            "219/219 [==============================] - 1s 5ms/step - loss: 0.0287 - accuracy: 0.9926 - val_loss: 2.9481 - val_accuracy: 0.6185\n",
            "Epoch 17/50\n",
            "219/219 [==============================] - 1s 5ms/step - loss: 0.0262 - accuracy: 0.9928 - val_loss: 2.9208 - val_accuracy: 0.6258\n",
            "Epoch 18/50\n",
            "219/219 [==============================] - 1s 5ms/step - loss: 0.0496 - accuracy: 0.9854 - val_loss: 3.0968 - val_accuracy: 0.6055\n",
            "Epoch 19/50\n",
            "219/219 [==============================] - 1s 5ms/step - loss: 0.1090 - accuracy: 0.9674 - val_loss: 3.0023 - val_accuracy: 0.5808\n",
            "Epoch 20/50\n",
            "219/219 [==============================] - 1s 5ms/step - loss: 0.2369 - accuracy: 0.9303 - val_loss: 3.1717 - val_accuracy: 0.5878\n",
            "Epoch 21/50\n",
            "219/219 [==============================] - 1s 4ms/step - loss: 0.1053 - accuracy: 0.9680 - val_loss: 2.9205 - val_accuracy: 0.6268\n",
            "Epoch 22/50\n",
            "219/219 [==============================] - 1s 4ms/step - loss: 0.0206 - accuracy: 0.9941 - val_loss: 3.0862 - val_accuracy: 0.6155\n",
            "Epoch 23/50\n",
            "219/219 [==============================] - 1s 4ms/step - loss: 0.0162 - accuracy: 0.9957 - val_loss: 2.7676 - val_accuracy: 0.6292\n",
            "Epoch 24/50\n",
            "219/219 [==============================] - 1s 4ms/step - loss: 0.0853 - accuracy: 0.9755 - val_loss: 3.3042 - val_accuracy: 0.5968\n",
            "Epoch 25/50\n",
            "219/219 [==============================] - 1s 4ms/step - loss: 0.1463 - accuracy: 0.9546 - val_loss: 3.0715 - val_accuracy: 0.5991\n",
            "Epoch 26/50\n",
            "219/219 [==============================] - 1s 5ms/step - loss: 0.1217 - accuracy: 0.9647 - val_loss: 3.1327 - val_accuracy: 0.6058\n",
            "Epoch 27/50\n",
            "219/219 [==============================] - 1s 6ms/step - loss: 0.0744 - accuracy: 0.9788 - val_loss: 2.9290 - val_accuracy: 0.6348\n",
            "Epoch 28/50\n",
            "219/219 [==============================] - 1s 6ms/step - loss: 0.0241 - accuracy: 0.9928 - val_loss: 2.8629 - val_accuracy: 0.6429\n",
            "Epoch 29/50\n",
            "219/219 [==============================] - 1s 5ms/step - loss: 0.0104 - accuracy: 0.9974 - val_loss: 2.8576 - val_accuracy: 0.6422\n",
            "Epoch 30/50\n",
            "219/219 [==============================] - 1s 5ms/step - loss: 0.0124 - accuracy: 0.9970 - val_loss: 2.9238 - val_accuracy: 0.6268\n",
            "Epoch 31/50\n",
            "219/219 [==============================] - 1s 5ms/step - loss: 0.1853 - accuracy: 0.9485 - val_loss: 3.1551 - val_accuracy: 0.6085\n",
            "Epoch 32/50\n",
            "219/219 [==============================] - 1s 4ms/step - loss: 0.1428 - accuracy: 0.9604 - val_loss: 2.9553 - val_accuracy: 0.6192\n",
            "Epoch 33/50\n",
            "219/219 [==============================] - 1s 5ms/step - loss: 0.0436 - accuracy: 0.9866 - val_loss: 3.0727 - val_accuracy: 0.6178\n",
            "Epoch 34/50\n",
            "219/219 [==============================] - 1s 4ms/step - loss: 0.0342 - accuracy: 0.9883 - val_loss: 2.9551 - val_accuracy: 0.6288\n",
            "Epoch 35/50\n",
            "219/219 [==============================] - 1s 4ms/step - loss: 0.0269 - accuracy: 0.9908 - val_loss: 3.2694 - val_accuracy: 0.6142\n",
            "Epoch 36/50\n",
            "219/219 [==============================] - 1s 4ms/step - loss: 0.0995 - accuracy: 0.9687 - val_loss: 3.2162 - val_accuracy: 0.6175\n",
            "Epoch 37/50\n",
            "219/219 [==============================] - 1s 5ms/step - loss: 0.0875 - accuracy: 0.9732 - val_loss: 3.3911 - val_accuracy: 0.5895\n",
            "Epoch 38/50\n",
            "219/219 [==============================] - 1s 5ms/step - loss: 0.0416 - accuracy: 0.9868 - val_loss: 3.0071 - val_accuracy: 0.6328\n",
            "Epoch 39/50\n",
            "219/219 [==============================] - 1s 4ms/step - loss: 0.0492 - accuracy: 0.9866 - val_loss: 3.1023 - val_accuracy: 0.6288\n",
            "Epoch 40/50\n",
            "219/219 [==============================] - 1s 5ms/step - loss: 0.0301 - accuracy: 0.9901 - val_loss: 3.0321 - val_accuracy: 0.6298\n",
            "Epoch 41/50\n",
            "219/219 [==============================] - 1s 6ms/step - loss: 0.0093 - accuracy: 0.9973 - val_loss: 2.9153 - val_accuracy: 0.6348\n",
            "Epoch 42/50\n",
            "219/219 [==============================] - 1s 6ms/step - loss: 0.0104 - accuracy: 0.9977 - val_loss: 3.0355 - val_accuracy: 0.6409\n",
            "Epoch 43/50\n",
            "219/219 [==============================] - 1s 5ms/step - loss: 0.0079 - accuracy: 0.9986 - val_loss: 2.9852 - val_accuracy: 0.6449\n",
            "Epoch 44/50\n",
            "219/219 [==============================] - 1s 5ms/step - loss: 0.0072 - accuracy: 0.9984 - val_loss: 3.0647 - val_accuracy: 0.6399\n",
            "Epoch 45/50\n",
            "219/219 [==============================] - 1s 4ms/step - loss: 0.4005 - accuracy: 0.9186 - val_loss: 3.6680 - val_accuracy: 0.5344\n",
            "Epoch 46/50\n",
            "219/219 [==============================] - 1s 5ms/step - loss: 0.2610 - accuracy: 0.9262 - val_loss: 3.0635 - val_accuracy: 0.6155\n",
            "Epoch 47/50\n",
            "219/219 [==============================] - 1s 5ms/step - loss: 0.0418 - accuracy: 0.9880 - val_loss: 2.8974 - val_accuracy: 0.6188\n",
            "Epoch 48/50\n",
            "219/219 [==============================] - 1s 4ms/step - loss: 0.0267 - accuracy: 0.9931 - val_loss: 3.0444 - val_accuracy: 0.6325\n",
            "Epoch 49/50\n",
            "219/219 [==============================] - 1s 4ms/step - loss: 0.0119 - accuracy: 0.9973 - val_loss: 2.9050 - val_accuracy: 0.6372\n",
            "Epoch 50/50\n",
            "219/219 [==============================] - 1s 5ms/step - loss: 0.0079 - accuracy: 0.9987 - val_loss: 2.9576 - val_accuracy: 0.6375\n"
          ]
        }
      ]
    },
    {
      "cell_type": "code",
      "source": [
        "\n",
        "import json\n",
        "import numpy as np\n",
        "from sklearn.model_selection import train_test_split\n",
        "import tensorflow.keras as keras\n",
        "\n",
        "import matplotlib.pyplot as plt\n",
        "import random\n",
        "\n",
        "import librosa\n",
        "import math"
      ],
      "metadata": {
        "id": "x6TikuyNqiYc"
      },
      "execution_count": null,
      "outputs": []
    },
    {
      "cell_type": "code",
      "source": [
        "def plot_history(history):\n",
        "\n",
        "    fig, axs = plt.subplots(2)\n",
        "\n",
        "    # create accuracy sublpot\n",
        "    axs[0].plot(history.history[\"accuracy\"], label=\"train accuracy\")\n",
        "    axs[0].plot(history.history[\"val_accuracy\"], label=\"test accuracy\")\n",
        "    axs[0].set_ylabel(\"Accuracy\")\n",
        "    axs[0].legend(loc=\"lower right\")\n",
        "    axs[0].set_title(\"Accuracy eval\")\n",
        "\n",
        "    # create error sublpot\n",
        "    axs[1].plot(history.history[\"loss\"], label=\"train error\")\n",
        "    axs[1].plot(history.history[\"val_loss\"], label=\"test error\")\n",
        "    axs[1].set_ylabel(\"Error\")\n",
        "    axs[1].set_xlabel(\"Epoch\")\n",
        "    axs[1].legend(loc=\"upper right\")\n",
        "    axs[1].set_title(\"Error eval\")\n",
        "    \n",
        "    plt.show()"
      ],
      "metadata": {
        "id": "LrYWvcWSqnHz"
      },
      "execution_count": null,
      "outputs": []
    },
    {
      "cell_type": "code",
      "source": [
        "\n",
        "# plot accuracy and error as a function of the epochs\n",
        "plot_history(history)"
      ],
      "metadata": {
        "colab": {
          "base_uri": "https://localhost:8080/",
          "height": 472
        },
        "id": "RlNfEa-2pwEE",
        "outputId": "440896ef-b300-48ef-a254-a85c0a2f7929"
      },
      "execution_count": null,
      "outputs": [
        {
          "output_type": "display_data",
          "data": {
            "text/plain": [
              "<Figure size 640x480 with 2 Axes>"
            ],
            "image/png": "[encoded data removed]"
          },
          "metadata": {}
        }
      ]
    },
    {
      "cell_type": "code",
      "source": [
        "# build network topology\n",
        "model_regularized = keras.Sequential([\n",
        "\n",
        "    # input layer\n",
        "    keras.layers.Flatten(input_shape=(X.shape[1], X.shape[2])),\n",
        "\n",
        "    # 1st dense layer\n",
        "    keras.layers.Dense(512, activation='relu', kernel_regularizer=keras.regularizers.l2(0.001)),\n",
        "    keras.layers.Dropout(0.3),\n",
        "\n",
        "    # 2nd dense layer\n",
        "    keras.layers.Dense(256, activation='relu', kernel_regularizer=keras.regularizers.l2(0.001)),\n",
        "    keras.layers.Dropout(0.3),\n",
        "\n",
        "    # 3rd dense layer\n",
        "    keras.layers.Dense(64, activation='relu', kernel_regularizer=keras.regularizers.l2(0.001)),\n",
        "    keras.layers.Dropout(0.3),\n",
        "\n",
        "    # output layer\n",
        "    keras.layers.Dense(10, activation='softmax')\n",
        "])"
      ],
      "metadata": {
        "id": "rtAVrVQsqd0w"
      },
      "execution_count": null,
      "outputs": []
    },
    {
      "cell_type": "code",
      "source": [
        "\n",
        "# compile model\n",
        "optimiser = keras.optimizers.Adam(learning_rate=0.0001)\n",
        "model_regularized.compile(optimizer=optimiser,\n",
        "              loss='sparse_categorical_crossentropy',\n",
        "              metrics=['accuracy'])"
      ],
      "metadata": {
        "id": "xPB6R29qqfko"
      },
      "execution_count": null,
      "outputs": []
    },
    {
      "cell_type": "code",
      "source": [
        "history = model_regularized.fit(X_train, y_train, validation_data=(X_test, y_test), batch_size=32, epochs=100)"
      ],
      "metadata": {
        "colab": {
          "base_uri": "https://localhost:8080/"
        },
        "id": "wAPnxcWZqqtd",
        "outputId": "0cbc6e02-62dc-43d5-f6f1-bf5a06b21a46"
      },
      "execution_count": null,
      "outputs": [
        {
          "output_type": "stream",
          "name": "stdout",
          "text": [
            "Epoch 1/100\n",
            "219/219 [==============================] - 3s 6ms/step - loss: 21.6736 - accuracy: 0.1249 - val_loss: 3.5215 - val_accuracy: 0.0858\n",
            "Epoch 2/100\n",
            "219/219 [==============================] - 1s 5ms/step - loss: 5.5209 - accuracy: 0.1207 - val_loss: 3.5105 - val_accuracy: 0.1091\n",
            "Epoch 3/100\n",
            "219/219 [==============================] - 1s 5ms/step - loss: 4.1881 - accuracy: 0.1196 - val_loss: 3.5081 - val_accuracy: 0.1058\n",
            "Epoch 4/100\n",
            "219/219 [==============================] - 2s 8ms/step - loss: 3.8177 - accuracy: 0.1133 - val_loss: 3.5051 - val_accuracy: 0.1051\n",
            "Epoch 5/100\n",
            "219/219 [==============================] - 2s 9ms/step - loss: 3.7507 - accuracy: 0.1053 - val_loss: 3.4970 - val_accuracy: 0.1095\n",
            "Epoch 6/100\n",
            "219/219 [==============================] - 1s 5ms/step - loss: 3.6311 - accuracy: 0.1205 - val_loss: 3.4792 - val_accuracy: 0.1145\n",
            "Epoch 7/100\n",
            "219/219 [==============================] - 1s 5ms/step - loss: 3.5679 - accuracy: 0.1183 - val_loss: 3.4615 - val_accuracy: 0.1248\n",
            "Epoch 8/100\n",
            "219/219 [==============================] - 1s 4ms/step - loss: 3.5575 - accuracy: 0.1216 - val_loss: 3.4769 - val_accuracy: 0.1018\n",
            "Epoch 9/100\n",
            "219/219 [==============================] - 1s 5ms/step - loss: 3.5154 - accuracy: 0.1363 - val_loss: 3.4121 - val_accuracy: 0.1342\n",
            "Epoch 10/100\n",
            "219/219 [==============================] - 1s 5ms/step - loss: 3.4980 - accuracy: 0.1348 - val_loss: 3.4267 - val_accuracy: 0.1218\n",
            "Epoch 11/100\n",
            "219/219 [==============================] - 1s 5ms/step - loss: 3.4623 - accuracy: 0.1419 - val_loss: 3.3837 - val_accuracy: 0.1399\n",
            "Epoch 12/100\n",
            "219/219 [==============================] - 1s 4ms/step - loss: 3.4446 - accuracy: 0.1474 - val_loss: 3.3604 - val_accuracy: 0.1522\n",
            "Epoch 13/100\n",
            "219/219 [==============================] - 1s 4ms/step - loss: 3.3848 - accuracy: 0.1611 - val_loss: 3.3014 - val_accuracy: 0.1776\n",
            "Epoch 14/100\n",
            "219/219 [==============================] - 1s 4ms/step - loss: 3.3736 - accuracy: 0.1587 - val_loss: 3.3334 - val_accuracy: 0.1542\n",
            "Epoch 15/100\n",
            "219/219 [==============================] - 1s 5ms/step - loss: 3.3457 - accuracy: 0.1644 - val_loss: 3.2890 - val_accuracy: 0.1716\n",
            "Epoch 16/100\n",
            "219/219 [==============================] - 1s 6ms/step - loss: 3.3232 - accuracy: 0.1748 - val_loss: 3.2498 - val_accuracy: 0.1836\n",
            "Epoch 17/100\n",
            "219/219 [==============================] - 1s 6ms/step - loss: 3.2965 - accuracy: 0.1818 - val_loss: 3.2276 - val_accuracy: 0.1923\n",
            "Epoch 18/100\n",
            "219/219 [==============================] - 1s 6ms/step - loss: 3.2824 - accuracy: 0.1801 - val_loss: 3.2360 - val_accuracy: 0.1779\n",
            "Epoch 19/100\n",
            "219/219 [==============================] - 1s 5ms/step - loss: 3.2491 - accuracy: 0.1900 - val_loss: 3.2016 - val_accuracy: 0.1913\n",
            "Epoch 20/100\n",
            "219/219 [==============================] - 1s 4ms/step - loss: 3.2420 - accuracy: 0.1817 - val_loss: 3.2117 - val_accuracy: 0.1779\n",
            "Epoch 21/100\n",
            "219/219 [==============================] - 1s 4ms/step - loss: 3.2153 - accuracy: 0.1963 - val_loss: 3.1185 - val_accuracy: 0.2156\n",
            "Epoch 22/100\n",
            "219/219 [==============================] - 1s 5ms/step - loss: 3.1934 - accuracy: 0.1967 - val_loss: 3.1379 - val_accuracy: 0.1949\n",
            "Epoch 23/100\n",
            "219/219 [==============================] - 1s 4ms/step - loss: 3.1636 - accuracy: 0.1954 - val_loss: 3.1285 - val_accuracy: 0.2003\n",
            "Epoch 24/100\n",
            "219/219 [==============================] - 1s 4ms/step - loss: 3.1489 - accuracy: 0.2027 - val_loss: 3.1079 - val_accuracy: 0.1999\n",
            "Epoch 25/100\n",
            "219/219 [==============================] - 1s 5ms/step - loss: 3.1159 - accuracy: 0.2062 - val_loss: 3.0322 - val_accuracy: 0.2300\n",
            "Epoch 26/100\n",
            "219/219 [==============================] - 1s 5ms/step - loss: 3.0781 - accuracy: 0.2149 - val_loss: 3.0233 - val_accuracy: 0.2170\n",
            "Epoch 27/100\n",
            "219/219 [==============================] - 1s 5ms/step - loss: 3.0481 - accuracy: 0.2144 - val_loss: 2.9591 - val_accuracy: 0.2393\n",
            "Epoch 28/100\n",
            "219/219 [==============================] - 1s 6ms/step - loss: 3.0348 - accuracy: 0.2195 - val_loss: 2.9318 - val_accuracy: 0.2460\n",
            "Epoch 29/100\n",
            "219/219 [==============================] - 1s 6ms/step - loss: 3.0011 - accuracy: 0.2207 - val_loss: 2.9665 - val_accuracy: 0.2246\n",
            "Epoch 30/100\n",
            "219/219 [==============================] - 1s 6ms/step - loss: 2.9836 - accuracy: 0.2235 - val_loss: 2.9025 - val_accuracy: 0.2453\n",
            "Epoch 31/100\n",
            "219/219 [==============================] - 1s 4ms/step - loss: 2.9436 - accuracy: 0.2345 - val_loss: 2.8865 - val_accuracy: 0.2433\n",
            "Epoch 32/100\n",
            "219/219 [==============================] - 1s 4ms/step - loss: 2.9332 - accuracy: 0.2260 - val_loss: 2.8632 - val_accuracy: 0.2423\n",
            "Epoch 33/100\n",
            "219/219 [==============================] - 1s 4ms/step - loss: 2.9085 - accuracy: 0.2243 - val_loss: 2.8354 - val_accuracy: 0.2457\n",
            "Epoch 34/100\n",
            "219/219 [==============================] - 1s 5ms/step - loss: 2.8844 - accuracy: 0.2305 - val_loss: 2.8398 - val_accuracy: 0.2393\n",
            "Epoch 35/100\n",
            "219/219 [==============================] - 1s 5ms/step - loss: 2.8465 - accuracy: 0.2319 - val_loss: 2.7941 - val_accuracy: 0.2467\n",
            "Epoch 36/100\n",
            "219/219 [==============================] - 1s 4ms/step - loss: 2.8071 - accuracy: 0.2389 - val_loss: 2.7608 - val_accuracy: 0.2460\n",
            "Epoch 37/100\n",
            "219/219 [==============================] - 1s 4ms/step - loss: 2.8065 - accuracy: 0.2330 - val_loss: 2.7537 - val_accuracy: 0.2457\n",
            "Epoch 38/100\n",
            "219/219 [==============================] - 1s 5ms/step - loss: 2.7894 - accuracy: 0.2330 - val_loss: 2.7322 - val_accuracy: 0.2493\n",
            "Epoch 39/100\n",
            "219/219 [==============================] - 1s 5ms/step - loss: 2.7535 - accuracy: 0.2326 - val_loss: 2.7246 - val_accuracy: 0.2513\n",
            "Epoch 40/100\n",
            "219/219 [==============================] - 1s 4ms/step - loss: 2.7292 - accuracy: 0.2371 - val_loss: 2.6913 - val_accuracy: 0.2560\n",
            "Epoch 41/100\n",
            "219/219 [==============================] - 1s 6ms/step - loss: 2.7183 - accuracy: 0.2373 - val_loss: 2.6718 - val_accuracy: 0.2510\n",
            "Epoch 42/100\n",
            "219/219 [==============================] - 1s 6ms/step - loss: 2.6864 - accuracy: 0.2426 - val_loss: 2.6590 - val_accuracy: 0.2537\n",
            "Epoch 43/100\n",
            "219/219 [==============================] - 1s 6ms/step - loss: 2.6593 - accuracy: 0.2409 - val_loss: 2.6035 - val_accuracy: 0.2413\n",
            "Epoch 44/100\n",
            "219/219 [==============================] - 1s 4ms/step - loss: 2.6134 - accuracy: 0.2442 - val_loss: 2.6175 - val_accuracy: 0.2487\n",
            "Epoch 45/100\n",
            "219/219 [==============================] - 1s 4ms/step - loss: 2.5960 - accuracy: 0.2448 - val_loss: 2.5743 - val_accuracy: 0.2473\n",
            "Epoch 46/100\n",
            "219/219 [==============================] - 1s 5ms/step - loss: 2.5646 - accuracy: 0.2455 - val_loss: 2.5501 - val_accuracy: 0.2477\n",
            "Epoch 47/100\n",
            "219/219 [==============================] - 1s 5ms/step - loss: 2.5287 - accuracy: 0.2518 - val_loss: 2.5449 - val_accuracy: 0.2477\n",
            "Epoch 48/100\n",
            "219/219 [==============================] - 1s 4ms/step - loss: 2.5011 - accuracy: 0.2498 - val_loss: 2.5049 - val_accuracy: 0.2530\n",
            "Epoch 49/100\n",
            "219/219 [==============================] - 1s 4ms/step - loss: 2.4702 - accuracy: 0.2471 - val_loss: 2.4702 - val_accuracy: 0.2924\n",
            "Epoch 50/100\n",
            "219/219 [==============================] - 1s 4ms/step - loss: 2.4654 - accuracy: 0.2793 - val_loss: 2.4734 - val_accuracy: 0.2951\n",
            "Epoch 51/100\n",
            "219/219 [==============================] - 1s 5ms/step - loss: 2.4241 - accuracy: 0.2818 - val_loss: 2.4253 - val_accuracy: 0.3051\n",
            "Epoch 52/100\n",
            "219/219 [==============================] - 1s 4ms/step - loss: 2.4142 - accuracy: 0.2808 - val_loss: 2.4115 - val_accuracy: 0.3024\n",
            "Epoch 53/100\n",
            "219/219 [==============================] - 1s 5ms/step - loss: 2.3812 - accuracy: 0.2918 - val_loss: 2.3828 - val_accuracy: 0.3128\n",
            "Epoch 54/100\n",
            "219/219 [==============================] - 1s 6ms/step - loss: 2.3769 - accuracy: 0.2877 - val_loss: 2.3878 - val_accuracy: 0.3168\n",
            "Epoch 55/100\n",
            "219/219 [==============================] - 1s 6ms/step - loss: 2.3530 - accuracy: 0.2997 - val_loss: 2.3526 - val_accuracy: 0.3238\n",
            "Epoch 56/100\n",
            "219/219 [==============================] - 1s 4ms/step - loss: 2.3263 - accuracy: 0.2994 - val_loss: 2.3524 - val_accuracy: 0.3238\n",
            "Epoch 57/100\n",
            "219/219 [==============================] - 1s 4ms/step - loss: 2.3210 - accuracy: 0.3026 - val_loss: 2.3468 - val_accuracy: 0.3131\n",
            "Epoch 58/100\n",
            "219/219 [==============================] - 1s 4ms/step - loss: 2.2862 - accuracy: 0.3147 - val_loss: 2.2893 - val_accuracy: 0.3344\n",
            "Epoch 59/100\n",
            "219/219 [==============================] - 1s 4ms/step - loss: 2.2649 - accuracy: 0.3196 - val_loss: 2.3196 - val_accuracy: 0.3184\n",
            "Epoch 60/100\n",
            "219/219 [==============================] - 1s 5ms/step - loss: 2.2621 - accuracy: 0.3166 - val_loss: 2.2758 - val_accuracy: 0.3395\n",
            "Epoch 61/100\n",
            "219/219 [==============================] - 1s 5ms/step - loss: 2.2330 - accuracy: 0.3309 - val_loss: 2.2487 - val_accuracy: 0.3374\n",
            "Epoch 62/100\n",
            "219/219 [==============================] - 1s 5ms/step - loss: 2.1990 - accuracy: 0.3361 - val_loss: 2.2262 - val_accuracy: 0.3471\n",
            "Epoch 63/100\n",
            "219/219 [==============================] - 1s 5ms/step - loss: 2.1765 - accuracy: 0.3459 - val_loss: 2.1979 - val_accuracy: 0.3431\n",
            "Epoch 64/100\n",
            "219/219 [==============================] - 1s 5ms/step - loss: 2.1517 - accuracy: 0.3545 - val_loss: 2.1723 - val_accuracy: 0.3638\n",
            "Epoch 65/100\n",
            "219/219 [==============================] - 1s 4ms/step - loss: 2.1281 - accuracy: 0.3536 - val_loss: 2.2229 - val_accuracy: 0.3505\n",
            "Epoch 66/100\n",
            "219/219 [==============================] - 1s 6ms/step - loss: 2.1197 - accuracy: 0.3522 - val_loss: 2.1726 - val_accuracy: 0.3578\n",
            "Epoch 67/100\n",
            "219/219 [==============================] - 1s 6ms/step - loss: 2.0907 - accuracy: 0.3775 - val_loss: 2.1428 - val_accuracy: 0.3882\n",
            "Epoch 68/100\n",
            "219/219 [==============================] - 1s 5ms/step - loss: 2.0850 - accuracy: 0.3724 - val_loss: 2.1259 - val_accuracy: 0.3595\n",
            "Epoch 69/100\n",
            "219/219 [==============================] - 1s 4ms/step - loss: 2.0511 - accuracy: 0.3783 - val_loss: 2.1369 - val_accuracy: 0.3848\n",
            "Epoch 70/100\n",
            "219/219 [==============================] - 1s 4ms/step - loss: 2.0169 - accuracy: 0.3940 - val_loss: 2.0749 - val_accuracy: 0.4009\n",
            "Epoch 71/100\n",
            "219/219 [==============================] - 1s 4ms/step - loss: 2.0010 - accuracy: 0.3997 - val_loss: 2.0592 - val_accuracy: 0.3979\n",
            "Epoch 72/100\n",
            "219/219 [==============================] - 1s 5ms/step - loss: 1.9900 - accuracy: 0.4027 - val_loss: 2.0585 - val_accuracy: 0.4136\n",
            "Epoch 73/100\n",
            "219/219 [==============================] - 1s 4ms/step - loss: 1.9539 - accuracy: 0.4232 - val_loss: 2.0327 - val_accuracy: 0.4112\n",
            "Epoch 74/100\n",
            "219/219 [==============================] - 1s 4ms/step - loss: 1.9266 - accuracy: 0.4280 - val_loss: 2.0894 - val_accuracy: 0.4039\n",
            "Epoch 75/100\n",
            "219/219 [==============================] - 1s 5ms/step - loss: 1.9022 - accuracy: 0.4325 - val_loss: 2.0162 - val_accuracy: 0.4383\n",
            "Epoch 76/100\n",
            "219/219 [==============================] - 1s 4ms/step - loss: 1.8850 - accuracy: 0.4425 - val_loss: 2.0329 - val_accuracy: 0.4326\n",
            "Epoch 77/100\n",
            "219/219 [==============================] - 1s 5ms/step - loss: 1.8645 - accuracy: 0.4559 - val_loss: 1.9945 - val_accuracy: 0.4399\n",
            "Epoch 78/100\n",
            "219/219 [==============================] - 1s 5ms/step - loss: 1.8327 - accuracy: 0.4535 - val_loss: 1.9645 - val_accuracy: 0.4429\n",
            "Epoch 79/100\n",
            "219/219 [==============================] - 1s 6ms/step - loss: 1.8002 - accuracy: 0.4642 - val_loss: 1.8696 - val_accuracy: 0.4633\n",
            "Epoch 80/100\n",
            "219/219 [==============================] - 2s 8ms/step - loss: 1.7671 - accuracy: 0.4692 - val_loss: 1.8273 - val_accuracy: 0.4917\n",
            "Epoch 81/100\n",
            "219/219 [==============================] - 1s 5ms/step - loss: 1.7282 - accuracy: 0.4860 - val_loss: 1.8161 - val_accuracy: 0.4967\n",
            "Epoch 82/100\n",
            "219/219 [==============================] - 1s 4ms/step - loss: 1.6965 - accuracy: 0.4971 - val_loss: 1.8119 - val_accuracy: 0.4856\n",
            "Epoch 83/100\n",
            "219/219 [==============================] - 1s 5ms/step - loss: 1.6437 - accuracy: 0.5067 - val_loss: 1.8168 - val_accuracy: 0.4970\n",
            "Epoch 84/100\n",
            "219/219 [==============================] - 1s 4ms/step - loss: 1.6444 - accuracy: 0.5112 - val_loss: 1.7987 - val_accuracy: 0.5093\n",
            "Epoch 85/100\n",
            "219/219 [==============================] - 1s 5ms/step - loss: 1.6163 - accuracy: 0.5123 - val_loss: 1.7945 - val_accuracy: 0.4853\n",
            "Epoch 86/100\n",
            "219/219 [==============================] - 1s 5ms/step - loss: 1.5874 - accuracy: 0.5243 - val_loss: 1.7589 - val_accuracy: 0.5103\n",
            "Epoch 87/100\n",
            "219/219 [==============================] - 1s 4ms/step - loss: 1.5489 - accuracy: 0.5308 - val_loss: 1.7846 - val_accuracy: 0.5033\n",
            "Epoch 88/100\n",
            "219/219 [==============================] - 1s 5ms/step - loss: 1.5505 - accuracy: 0.5383 - val_loss: 1.7282 - val_accuracy: 0.5407\n",
            "Epoch 89/100\n",
            "219/219 [==============================] - 1s 4ms/step - loss: 1.5287 - accuracy: 0.5445 - val_loss: 1.7364 - val_accuracy: 0.5137\n",
            "Epoch 90/100\n",
            "219/219 [==============================] - 1s 4ms/step - loss: 1.5071 - accuracy: 0.5531 - val_loss: 1.7727 - val_accuracy: 0.5297\n",
            "Epoch 91/100\n",
            "219/219 [==============================] - 1s 6ms/step - loss: 1.4823 - accuracy: 0.5631 - val_loss: 1.7542 - val_accuracy: 0.5511\n",
            "Epoch 92/100\n",
            "219/219 [==============================] - 1s 6ms/step - loss: 1.4586 - accuracy: 0.5724 - val_loss: 1.7484 - val_accuracy: 0.5294\n",
            "Epoch 93/100\n",
            "219/219 [==============================] - 1s 6ms/step - loss: 1.4168 - accuracy: 0.5747 - val_loss: 1.7097 - val_accuracy: 0.5511\n",
            "Epoch 94/100\n",
            "219/219 [==============================] - 1s 5ms/step - loss: 1.4126 - accuracy: 0.5805 - val_loss: 1.7150 - val_accuracy: 0.5564\n",
            "Epoch 95/100\n",
            "219/219 [==============================] - 1s 5ms/step - loss: 1.3955 - accuracy: 0.5897 - val_loss: 1.6751 - val_accuracy: 0.5577\n",
            "Epoch 96/100\n",
            "219/219 [==============================] - 1s 5ms/step - loss: 1.3842 - accuracy: 0.5928 - val_loss: 1.7189 - val_accuracy: 0.5424\n",
            "Epoch 97/100\n",
            "219/219 [==============================] - 1s 5ms/step - loss: 1.3507 - accuracy: 0.6003 - val_loss: 1.7278 - val_accuracy: 0.5628\n",
            "Epoch 98/100\n",
            "219/219 [==============================] - 1s 5ms/step - loss: 1.3341 - accuracy: 0.6132 - val_loss: 1.6674 - val_accuracy: 0.5708\n",
            "Epoch 99/100\n",
            "219/219 [==============================] - 1s 5ms/step - loss: 1.3301 - accuracy: 0.6089 - val_loss: 1.7369 - val_accuracy: 0.5617\n",
            "Epoch 100/100\n",
            "219/219 [==============================] - 1s 5ms/step - loss: 1.3129 - accuracy: 0.6094 - val_loss: 1.6729 - val_accuracy: 0.5654\n"
          ]
        }
      ]
    },
    {
      "cell_type": "code",
      "source": [
        "plot_history(history)"
      ],
      "metadata": {
        "colab": {
          "base_uri": "https://localhost:8080/",
          "height": 472
        },
        "id": "V8MWkmIcqr5N",
        "outputId": "fa877770-8160-4c35-9ab2-a49126587d17"
      },
      "execution_count": null,
      "outputs": [
        {
          "output_type": "display_data",
          "data": {
            "text/plain": [
              "<Figure size 640x480 with 2 Axes>"
            ],
            "image/png": "[encoded data removed]"
          },
          "metadata": {}
        }
      ]
    },
    {
      "cell_type": "code",
      "source": [
        "# create train, validation and test split\n",
        "X_train, X_test, y_train, y_test = train_test_split(X, y, test_size=0.25)\n",
        "X_train, X_validation, y_train, y_validation = train_test_split(X_train, y_train, test_size=0.2)\n",
        "\n",
        "# add an axis to input sets\n",
        "X_train = X_train[..., np.newaxis]\n",
        "X_validation = X_validation[..., np.newaxis]\n",
        "X_test = X_test[..., np.newaxis]"
      ],
      "metadata": {
        "id": "L2yOC3DNqtuA"
      },
      "execution_count": null,
      "outputs": []
    },
    {
      "cell_type": "code",
      "source": [
        "X_train.shape"
      ],
      "metadata": {
        "colab": {
          "base_uri": "https://localhost:8080/"
        },
        "id": "RKoRqUs3rWpZ",
        "outputId": "6c191b8a-6a65-4b1b-878e-d08f41639e55"
      },
      "execution_count": null,
      "outputs": [
        {
          "output_type": "execute_result",
          "data": {
            "text/plain": [
              "(5991, 130, 13, 1)"
            ]
          },
          "metadata": {},
          "execution_count": 20
        }
      ]
    },
    {
      "cell_type": "code",
      "source": [
        "input_shape = (X_train.shape[1], X_train.shape[2], 1)"
      ],
      "metadata": {
        "id": "AAXN1pGarXkZ"
      },
      "execution_count": null,
      "outputs": []
    },
    {
      "cell_type": "code",
      "source": [
        "# build the CNN\n",
        "model_cnn = keras.Sequential()\n",
        "\n",
        "# 1st conv layer\n",
        "model_cnn.add(keras.layers.Conv2D(32, (3, 3), activation='relu', input_shape=input_shape))\n",
        "model_cnn.add(keras.layers.MaxPooling2D((3, 3), strides=(2, 2), padding='same'))\n",
        "model_cnn.add(keras.layers.BatchNormalization())\n",
        "\n",
        "# 2nd conv layer\n",
        "model_cnn.add(keras.layers.Conv2D(32, (3, 3), activation='relu'))\n",
        "model_cnn.add(keras.layers.MaxPooling2D((3, 3), strides=(2, 2), padding='same'))\n",
        "model_cnn.add(keras.layers.BatchNormalization())\n",
        "\n",
        "# 3rd conv layer\n",
        "model_cnn.add(keras.layers.Conv2D(32, (2, 2), activation='relu'))\n",
        "model_cnn.add(keras.layers.MaxPooling2D((2, 2), strides=(2, 2), padding='same'))\n",
        "model_cnn.add(keras.layers.BatchNormalization())\n",
        "\n",
        "# flatten output and feed it into dense layer\n",
        "model_cnn.add(keras.layers.Flatten())\n",
        "model_cnn.add(keras.layers.Dense(64, activation='relu'))\n",
        "model_cnn.add(keras.layers.Dropout(0.3))\n",
        "\n",
        "# output layer\n",
        "model_cnn.add(keras.layers.Dense(10, activation='softmax'))"
      ],
      "metadata": {
        "id": "0bfrYXBfrYr_"
      },
      "execution_count": null,
      "outputs": []
    },
    {
      "cell_type": "code",
      "source": [
        "# compile model\n",
        "optimiser = keras.optimizers.Adam(learning_rate=0.0001)\n",
        "model_cnn.compile(optimizer=optimiser,\n",
        "              loss='sparse_categorical_crossentropy',\n",
        "              metrics=['accuracy'])"
      ],
      "metadata": {
        "id": "356ecC2NraGu"
      },
      "execution_count": null,
      "outputs": []
    },
    {
      "cell_type": "code",
      "source": [
        "model_cnn.summary()"
      ],
      "metadata": {
        "colab": {
          "base_uri": "https://localhost:8080/"
        },
        "id": "OUra-31LrbAO",
        "outputId": "f0ed60e1-b492-4e93-e627-8b853b515a51"
      },
      "execution_count": null,
      "outputs": [
        {
          "output_type": "stream",
          "name": "stdout",
          "text": [
            "Model: \"sequential_3\"\n",
            "_________________________________________________________________\n",
            " Layer (type)                Output Shape              Param #   \n",
            "=================================================================\n",
            " conv2d (Conv2D)             (None, 128, 11, 32)       320       \n",
            "                                                                 \n",
            " max_pooling2d (MaxPooling2D  (None, 64, 6, 32)        0         \n",
            " )                                                               \n",
            "                                                                 \n",
            " batch_normalization (BatchN  (None, 64, 6, 32)        128       \n",
            " ormalization)                                                   \n",
            "                                                                 \n",
            " conv2d_1 (Conv2D)           (None, 62, 4, 32)         9248      \n",
            "                                                                 \n",
            " max_pooling2d_1 (MaxPooling  (None, 31, 2, 32)        0         \n",
            " 2D)                                                             \n",
            "                                                                 \n",
            " batch_normalization_1 (Batc  (None, 31, 2, 32)        128       \n",
            " hNormalization)                                                 \n",
            "                                                                 \n",
            " conv2d_2 (Conv2D)           (None, 30, 1, 32)         4128      \n",
            "                                                                 \n",
            " max_pooling2d_2 (MaxPooling  (None, 15, 1, 32)        0         \n",
            " 2D)                                                             \n",
            "                                                                 \n",
            " batch_normalization_2 (Batc  (None, 15, 1, 32)        128       \n",
            " hNormalization)                                                 \n",
            "                                                                 \n",
            " flatten_3 (Flatten)         (None, 480)               0         \n",
            "                                                                 \n",
            " dense_12 (Dense)            (None, 64)                30784     \n",
            "                                                                 \n",
            " dropout_6 (Dropout)         (None, 64)                0         \n",
            "                                                                 \n",
            " dense_13 (Dense)            (None, 10)                650       \n",
            "                                                                 \n",
            "=================================================================\n",
            "Total params: 45,514\n",
            "Trainable params: 45,322\n",
            "Non-trainable params: 192\n",
            "_________________________________________________________________\n"
          ]
        }
      ]
    },
    {
      "cell_type": "code",
      "source": [
        "# train model\n",
        "history = model_cnn.fit(X_train, y_train, validation_data=(X_validation, y_validation), batch_size=32, epochs=50)"
      ],
      "metadata": {
        "colab": {
          "base_uri": "https://localhost:8080/"
        },
        "id": "FAjXsmH4rccl",
        "outputId": "7c776d96-0264-468f-ec5c-ec1c4f43fed4"
      },
      "execution_count": null,
      "outputs": [
        {
          "output_type": "stream",
          "name": "stdout",
          "text": [
            "Epoch 1/50\n",
            "188/188 [==============================] - 12s 8ms/step - loss: 2.3805 - accuracy: 0.2330 - val_loss: 1.7970 - val_accuracy: 0.3618\n",
            "Epoch 2/50\n",
            "188/188 [==============================] - 1s 5ms/step - loss: 1.8549 - accuracy: 0.3562 - val_loss: 1.5456 - val_accuracy: 0.4539\n",
            "Epoch 3/50\n",
            "188/188 [==============================] - 1s 6ms/step - loss: 1.6657 - accuracy: 0.4123 - val_loss: 1.4226 - val_accuracy: 0.4940\n",
            "Epoch 4/50\n",
            "188/188 [==============================] - 1s 6ms/step - loss: 1.5475 - accuracy: 0.4447 - val_loss: 1.3599 - val_accuracy: 0.5060\n",
            "Epoch 5/50\n",
            "188/188 [==============================] - 1s 5ms/step - loss: 1.4358 - accuracy: 0.4839 - val_loss: 1.3055 - val_accuracy: 0.5274\n",
            "Epoch 6/50\n",
            "188/188 [==============================] - 1s 5ms/step - loss: 1.3883 - accuracy: 0.5028 - val_loss: 1.2375 - val_accuracy: 0.5641\n",
            "Epoch 7/50\n",
            "188/188 [==============================] - 1s 5ms/step - loss: 1.3338 - accuracy: 0.5216 - val_loss: 1.2058 - val_accuracy: 0.5754\n",
            "Epoch 8/50\n",
            "188/188 [==============================] - 1s 6ms/step - loss: 1.2640 - accuracy: 0.5470 - val_loss: 1.1522 - val_accuracy: 0.5961\n",
            "Epoch 9/50\n",
            "188/188 [==============================] - 1s 8ms/step - loss: 1.2251 - accuracy: 0.5512 - val_loss: 1.1317 - val_accuracy: 0.5941\n",
            "Epoch 10/50\n",
            "188/188 [==============================] - 2s 8ms/step - loss: 1.1991 - accuracy: 0.5695 - val_loss: 1.1214 - val_accuracy: 0.6055\n",
            "Epoch 11/50\n",
            "188/188 [==============================] - 1s 8ms/step - loss: 1.1401 - accuracy: 0.5896 - val_loss: 1.0901 - val_accuracy: 0.6142\n",
            "Epoch 12/50\n",
            "188/188 [==============================] - 1s 6ms/step - loss: 1.1296 - accuracy: 0.5972 - val_loss: 1.0559 - val_accuracy: 0.6288\n",
            "Epoch 13/50\n",
            "188/188 [==============================] - 1s 5ms/step - loss: 1.0966 - accuracy: 0.6071 - val_loss: 1.0360 - val_accuracy: 0.6442\n",
            "Epoch 14/50\n",
            "188/188 [==============================] - 1s 5ms/step - loss: 1.0610 - accuracy: 0.6266 - val_loss: 1.0077 - val_accuracy: 0.6509\n",
            "Epoch 15/50\n",
            "188/188 [==============================] - 1s 6ms/step - loss: 1.0331 - accuracy: 0.6415 - val_loss: 1.0198 - val_accuracy: 0.6469\n",
            "Epoch 16/50\n",
            "188/188 [==============================] - 1s 5ms/step - loss: 0.9968 - accuracy: 0.6475 - val_loss: 0.9858 - val_accuracy: 0.6589\n",
            "Epoch 17/50\n",
            "188/188 [==============================] - 1s 6ms/step - loss: 0.9694 - accuracy: 0.6620 - val_loss: 0.9789 - val_accuracy: 0.6575\n",
            "Epoch 18/50\n",
            "188/188 [==============================] - 1s 7ms/step - loss: 0.9445 - accuracy: 0.6687 - val_loss: 0.9769 - val_accuracy: 0.6629\n",
            "Epoch 19/50\n",
            "188/188 [==============================] - 1s 5ms/step - loss: 0.9368 - accuracy: 0.6742 - val_loss: 0.9481 - val_accuracy: 0.6769\n",
            "Epoch 20/50\n",
            "188/188 [==============================] - 1s 5ms/step - loss: 0.9164 - accuracy: 0.6820 - val_loss: 0.9374 - val_accuracy: 0.6609\n",
            "Epoch 21/50\n",
            "188/188 [==============================] - 1s 7ms/step - loss: 0.8698 - accuracy: 0.6960 - val_loss: 0.9549 - val_accuracy: 0.6676\n",
            "Epoch 22/50\n",
            "188/188 [==============================] - 2s 8ms/step - loss: 0.8684 - accuracy: 0.7002 - val_loss: 0.9056 - val_accuracy: 0.6876\n",
            "Epoch 23/50\n",
            "188/188 [==============================] - 1s 7ms/step - loss: 0.8469 - accuracy: 0.7021 - val_loss: 0.9451 - val_accuracy: 0.6676\n",
            "Epoch 24/50\n",
            "188/188 [==============================] - 1s 6ms/step - loss: 0.8329 - accuracy: 0.7069 - val_loss: 0.8812 - val_accuracy: 0.6876\n",
            "Epoch 25/50\n",
            "188/188 [==============================] - 1s 6ms/step - loss: 0.7976 - accuracy: 0.7197 - val_loss: 0.9200 - val_accuracy: 0.6943\n",
            "Epoch 26/50\n",
            "188/188 [==============================] - 1s 5ms/step - loss: 0.8035 - accuracy: 0.7191 - val_loss: 0.8729 - val_accuracy: 0.7023\n",
            "Epoch 27/50\n",
            "188/188 [==============================] - 1s 6ms/step - loss: 0.7708 - accuracy: 0.7336 - val_loss: 0.8734 - val_accuracy: 0.7130\n",
            "Epoch 28/50\n",
            "188/188 [==============================] - 1s 5ms/step - loss: 0.7679 - accuracy: 0.7366 - val_loss: 0.8966 - val_accuracy: 0.6949\n",
            "Epoch 29/50\n",
            "188/188 [==============================] - 1s 7ms/step - loss: 0.7367 - accuracy: 0.7424 - val_loss: 0.8897 - val_accuracy: 0.6976\n",
            "Epoch 30/50\n",
            "188/188 [==============================] - 1s 6ms/step - loss: 0.7305 - accuracy: 0.7480 - val_loss: 0.8758 - val_accuracy: 0.7003\n",
            "Epoch 31/50\n",
            "188/188 [==============================] - 1s 5ms/step - loss: 0.7143 - accuracy: 0.7508 - val_loss: 0.8669 - val_accuracy: 0.7016\n",
            "Epoch 32/50\n",
            "188/188 [==============================] - 1s 7ms/step - loss: 0.6945 - accuracy: 0.7555 - val_loss: 0.8594 - val_accuracy: 0.6956\n",
            "Epoch 33/50\n",
            "188/188 [==============================] - 2s 9ms/step - loss: 0.6778 - accuracy: 0.7661 - val_loss: 0.8451 - val_accuracy: 0.7049\n",
            "Epoch 34/50\n",
            "188/188 [==============================] - 1s 7ms/step - loss: 0.6831 - accuracy: 0.7610 - val_loss: 0.8578 - val_accuracy: 0.7143\n",
            "Epoch 35/50\n",
            "188/188 [==============================] - 1s 5ms/step - loss: 0.6527 - accuracy: 0.7672 - val_loss: 0.8586 - val_accuracy: 0.7023\n",
            "Epoch 36/50\n",
            "188/188 [==============================] - 1s 6ms/step - loss: 0.6542 - accuracy: 0.7670 - val_loss: 0.8283 - val_accuracy: 0.7183\n",
            "Epoch 37/50\n",
            "188/188 [==============================] - 1s 6ms/step - loss: 0.6315 - accuracy: 0.7842 - val_loss: 0.8241 - val_accuracy: 0.7196\n",
            "Epoch 38/50\n",
            "188/188 [==============================] - 1s 6ms/step - loss: 0.6321 - accuracy: 0.7825 - val_loss: 0.8295 - val_accuracy: 0.7116\n",
            "Epoch 39/50\n",
            "188/188 [==============================] - 1s 6ms/step - loss: 0.6120 - accuracy: 0.7900 - val_loss: 0.8859 - val_accuracy: 0.7043\n",
            "Epoch 40/50\n",
            "188/188 [==============================] - 1s 7ms/step - loss: 0.6006 - accuracy: 0.7969 - val_loss: 0.8345 - val_accuracy: 0.7276\n",
            "Epoch 41/50\n",
            "188/188 [==============================] - 1s 6ms/step - loss: 0.5894 - accuracy: 0.7960 - val_loss: 0.8164 - val_accuracy: 0.7143\n",
            "Epoch 42/50\n",
            "188/188 [==============================] - 1s 5ms/step - loss: 0.5813 - accuracy: 0.8027 - val_loss: 0.8215 - val_accuracy: 0.7283\n",
            "Epoch 43/50\n",
            "188/188 [==============================] - 1s 6ms/step - loss: 0.5546 - accuracy: 0.8129 - val_loss: 0.8387 - val_accuracy: 0.7196\n",
            "Epoch 44/50\n",
            "188/188 [==============================] - 2s 8ms/step - loss: 0.5635 - accuracy: 0.8052 - val_loss: 0.8134 - val_accuracy: 0.7123\n",
            "Epoch 45/50\n",
            "188/188 [==============================] - 1s 7ms/step - loss: 0.5539 - accuracy: 0.8112 - val_loss: 0.8007 - val_accuracy: 0.7330\n",
            "Epoch 46/50\n",
            "188/188 [==============================] - 1s 6ms/step - loss: 0.5376 - accuracy: 0.8164 - val_loss: 0.7953 - val_accuracy: 0.7176\n",
            "Epoch 47/50\n",
            "188/188 [==============================] - 1s 6ms/step - loss: 0.5399 - accuracy: 0.8136 - val_loss: 0.8147 - val_accuracy: 0.7183\n",
            "Epoch 48/50\n",
            "188/188 [==============================] - 1s 5ms/step - loss: 0.5161 - accuracy: 0.8229 - val_loss: 0.8277 - val_accuracy: 0.7230\n",
            "Epoch 49/50\n",
            "188/188 [==============================] - 1s 5ms/step - loss: 0.5118 - accuracy: 0.8271 - val_loss: 0.8045 - val_accuracy: 0.7370\n",
            "Epoch 50/50\n",
            "188/188 [==============================] - 1s 6ms/step - loss: 0.4980 - accuracy: 0.8307 - val_loss: 0.8088 - val_accuracy: 0.7283\n"
          ]
        }
      ]
    },
    {
      "cell_type": "code",
      "source": [
        "# plot accuracy and error as a function of the epochs\n",
        "plot_history(history)"
      ],
      "metadata": {
        "colab": {
          "base_uri": "https://localhost:8080/",
          "height": 472
        },
        "id": "eH_udSHgrdwL",
        "outputId": "fadca34e-0180-4365-8e6c-1f69d34778c0"
      },
      "execution_count": null,
      "outputs": [
        {
          "output_type": "display_data",
          "data": {
            "text/plain": [
              "<Figure size 640x480 with 2 Axes>"
            ],
            "image/png": "[encoded data removed]"
          },
          "metadata": {}
        }
      ]
    },
    {
      "cell_type": "code",
      "source": [
        "# evaluate model on Test Set\n",
        "test_loss, test_acc = model_cnn.evaluate(X_test, y_test, verbose=2)\n",
        "print('\\nTest accuracy:', test_acc)"
      ],
      "metadata": {
        "colab": {
          "base_uri": "https://localhost:8080/"
        },
        "id": "JHLHOV-Tre4B",
        "outputId": "10745009-21e4-4d58-9ec7-eb5488114c90"
      },
      "execution_count": null,
      "outputs": [
        {
          "output_type": "stream",
          "name": "stdout",
          "text": [
            "79/79 - 0s - loss: 0.7931 - accuracy: 0.7305 - 278ms/epoch - 4ms/step\n",
            "\n",
            "Test accuracy: 0.7304765582084656\n"
          ]
        }
      ]
    },
    {
      "cell_type": "code",
      "source": [
        "model_cnn.save(\"Music_Genre_10_CNN\")"
      ],
      "metadata": {
        "colab": {
          "base_uri": "https://localhost:8080/"
        },
        "id": "6G6CGYKArfpt",
        "outputId": "df4d9fa8-7ead-4a62-ad92-7ec9835c94dd"
      },
      "execution_count": null,
      "outputs": [
        {
          "output_type": "stream",
          "name": "stderr",
          "text": [
            "WARNING:absl:Found untraced functions such as _jit_compiled_convolution_op, _jit_compiled_convolution_op, _jit_compiled_convolution_op while saving (showing 3 of 3). These functions will not be directly callable after loading.\n"
          ]
        }
      ]
    },
    {
      "cell_type": "code",
      "source": [
        "\n",
        "model_cnn.save(\"Music_Genre_10_CNN.h5\")"
      ],
      "metadata": {
        "id": "MsIQLqB4rgoI"
      },
      "execution_count": null,
      "outputs": []
    },
    {
      "cell_type": "code",
      "source": [
        "# It can be used to reconstruct the model identically.\n",
        "reconstructed_model = keras.models.load_model(\"Music_Genre_10_CNN.h5\")"
      ],
      "metadata": {
        "id": "fi04dlh_rhmW"
      },
      "execution_count": null,
      "outputs": []
    },
    {
      "cell_type": "code",
      "source": [
        "# pick a sample to predict from the test set\n",
        "X_to_predict = X_test[100]\n",
        "y_to_predict = y_test[100]"
      ],
      "metadata": {
        "id": "gkIeyj_urisO"
      },
      "execution_count": null,
      "outputs": []
    },
    {
      "cell_type": "code",
      "source": [
        "X_to_predict.shape"
      ],
      "metadata": {
        "colab": {
          "base_uri": "https://localhost:8080/"
        },
        "id": "-DJ9EBp9rj0J",
        "outputId": "14740343-b542-46ff-a5b5-3bc4a0d0ba10"
      },
      "execution_count": null,
      "outputs": [
        {
          "output_type": "execute_result",
          "data": {
            "text/plain": [
              "(130, 13, 1)"
            ]
          },
          "metadata": {},
          "execution_count": 32
        }
      ]
    },
    {
      "cell_type": "code",
      "source": [
        "\n",
        "print(\"Real Genre:\", y_to_predict)"
      ],
      "metadata": {
        "colab": {
          "base_uri": "https://localhost:8080/"
        },
        "id": "GNzmO_63rk4G",
        "outputId": "8a9cb8dc-765e-436d-a26b-42416aed8a5d"
      },
      "execution_count": null,
      "outputs": [
        {
          "output_type": "stream",
          "name": "stdout",
          "text": [
            "Real Genre: 7\n"
          ]
        }
      ]
    },
    {
      "cell_type": "code",
      "source": [
        "\n",
        "# add a dimension to input data for sample - model.predict() expects a 4d array in this case\n",
        "X_to_predict = X_to_predict[np.newaxis, ...] # array shape (1, 130, 13, 1)"
      ],
      "metadata": {
        "id": "G2-w1-2mrlyj"
      },
      "execution_count": null,
      "outputs": []
    },
    {
      "cell_type": "code",
      "source": [
        "\n",
        "X_to_predict.shape"
      ],
      "metadata": {
        "colab": {
          "base_uri": "https://localhost:8080/"
        },
        "id": "4y5ZuokKrnBF",
        "outputId": "061d5b47-d2b7-404a-ae9f-8046703d6218"
      },
      "execution_count": null,
      "outputs": [
        {
          "output_type": "execute_result",
          "data": {
            "text/plain": [
              "(1, 130, 13, 1)"
            ]
          },
          "metadata": {},
          "execution_count": 35
        }
      ]
    },
    {
      "cell_type": "code",
      "source": [
        "\n",
        "# perform prediction\n",
        "prediction = model_cnn.predict(X_to_predict)"
      ],
      "metadata": {
        "colab": {
          "base_uri": "https://localhost:8080/"
        },
        "id": "aIlDlEyarnpI",
        "outputId": "01b8fe03-0b22-4b63-b758-f64628b047e4"
      },
      "execution_count": null,
      "outputs": [
        {
          "output_type": "stream",
          "name": "stdout",
          "text": [
            "1/1 [==============================] - 0s 187ms/step\n"
          ]
        }
      ]
    },
    {
      "cell_type": "code",
      "source": [
        "\n",
        "\n",
        "# get index with max value\n",
        "predicted_index = np.argmax(prediction, axis=1)\n",
        "\n",
        "print(\"Predicted Genre:\", int(predicted_index))"
      ],
      "metadata": {
        "colab": {
          "base_uri": "https://localhost:8080/"
        },
        "id": "rDgV6L2OroXZ",
        "outputId": "6c07ae82-4153-4c4b-8184-28110a9281dd"
      },
      "execution_count": null,
      "outputs": [
        {
          "output_type": "stream",
          "name": "stdout",
          "text": [
            "Predicted Genre: 7\n"
          ]
        }
      ]
    },
    {
      "cell_type": "code",
      "source": [
        "# pick a sample to predict from the test set\n",
        "X_to_predict = X_test[50]\n",
        "y_to_predict = y_test[50]\n",
        "\n",
        "print(\"Real Genre:\", y_to_predict)\n",
        "\n",
        "X_to_predict = X_to_predict[np.newaxis, ...]\n",
        "\n",
        "prediction = model_cnn.predict(X_to_predict)\n",
        "\n",
        "# get index with max value\n",
        "predicted_index = np.argmax(prediction, axis=1)\n",
        "\n",
        "print(\"Predicted Genre:\", int(predicted_index))"
      ],
      "metadata": {
        "colab": {
          "base_uri": "https://localhost:8080/"
        },
        "id": "-XJXL2R6rpGf",
        "outputId": "9c094981-26e8-428d-8fcf-b19678debda0"
      },
      "execution_count": null,
      "outputs": [
        {
          "output_type": "stream",
          "name": "stdout",
          "text": [
            "Real Genre: 6\n",
            "1/1 [==============================] - 0s 36ms/step\n",
            "Predicted Genre: 8\n"
          ]
        }
      ]
    },
    {
      "cell_type": "code",
      "source": [
        "len(X_test)"
      ],
      "metadata": {
        "colab": {
          "base_uri": "https://localhost:8080/"
        },
        "id": "16dE289lrqKo",
        "outputId": "d8d62c2e-7e10-4e7d-e81a-698d477cdcb4"
      },
      "execution_count": null,
      "outputs": [
        {
          "output_type": "execute_result",
          "data": {
            "text/plain": [
              "2497"
            ]
          },
          "metadata": {},
          "execution_count": 39
        }
      ]
    },
    {
      "cell_type": "code",
      "source": [
        "for n in range(10):\n",
        "\n",
        "  i = random.randint(0,len(X_test))\n",
        "  # pick a sample to predict from the test set\n",
        "  X_to_predict = X_test[i]\n",
        "  y_to_predict = y_test[i]\n",
        "\n",
        "  print(\"\\nReal Genre:\", y_to_predict)\n",
        "\n",
        "  X_to_predict = X_to_predict[np.newaxis, ...]\n",
        "\n",
        "  prediction = model_cnn.predict(X_to_predict)\n",
        "\n",
        "  # get index with max value\n",
        "  predicted_index = np.argmax(prediction, axis=1)\n",
        "\n",
        "  print(\"Predicted Genre:\", int(predicted_index))"
      ],
      "metadata": {
        "colab": {
          "base_uri": "https://localhost:8080/"
        },
        "id": "jYZD2r8LrrJr",
        "outputId": "676d2e0e-65ca-47fe-80cf-4faa820b9106"
      },
      "execution_count": null,
      "outputs": [
        {
          "output_type": "stream",
          "name": "stdout",
          "text": [
            "\n",
            "Real Genre: 2\n",
            "1/1 [==============================] - 0s 30ms/step\n",
            "Predicted Genre: 9\n",
            "\n",
            "Real Genre: 0\n",
            "1/1 [==============================] - 0s 31ms/step\n",
            "Predicted Genre: 3\n",
            "\n",
            "Real Genre: 2\n",
            "1/1 [==============================] - 0s 27ms/step\n",
            "Predicted Genre: 2\n",
            "\n",
            "Real Genre: 9\n",
            "1/1 [==============================] - 0s 30ms/step\n",
            "Predicted Genre: 9\n",
            "\n",
            "Real Genre: 9\n",
            "1/1 [==============================] - 0s 39ms/step\n",
            "Predicted Genre: 9\n",
            "\n",
            "Real Genre: 6\n",
            "1/1 [==============================] - 0s 26ms/step\n",
            "Predicted Genre: 3\n",
            "\n",
            "Real Genre: 5\n",
            "1/1 [==============================] - 0s 26ms/step\n",
            "Predicted Genre: 3\n",
            "\n",
            "Real Genre: 1\n",
            "1/1 [==============================] - 0s 25ms/step\n",
            "Predicted Genre: 1\n",
            "\n",
            "Real Genre: 7\n",
            "1/1 [==============================] - 0s 27ms/step\n",
            "Predicted Genre: 7\n",
            "\n",
            "Real Genre: 3\n",
            "1/1 [==============================] - 0s 27ms/step\n",
            "Predicted Genre: 3\n"
          ]
        }
      ]
    },
    {
      "cell_type": "code",
      "source": [
        "# Audio files pre-processing\n",
        "def process_input(audio_file, track_duration):\n",
        "\n",
        "  SAMPLE_RATE = 22050\n",
        "  NUM_MFCC = 13\n",
        "  N_FTT=2048\n",
        "  HOP_LENGTH=512\n",
        "  TRACK_DURATION = track_duration # measured in seconds\n",
        "  SAMPLES_PER_TRACK = SAMPLE_RATE * TRACK_DURATION\n",
        "  NUM_SEGMENTS = 10\n",
        "\n",
        "  samples_per_segment = int(SAMPLES_PER_TRACK / NUM_SEGMENTS)\n",
        "  num_mfcc_vectors_per_segment = math.ceil(samples_per_segment / HOP_LENGTH)\n",
        "\n",
        "  signal, sample_rate = librosa.load(audio_file, sr=SAMPLE_RATE)\n",
        "  \n",
        "  for d in range(10):\n",
        "\n",
        "    # calculate start and finish sample for current segment\n",
        "    start = samples_per_segment * d\n",
        "    finish = start + samples_per_segment\n",
        "\n",
        "    # extract mfcc\n",
        "    mfcc = librosa.feature.mfcc(y=signal[start:finish], sr = sample_rate, n_mfcc=NUM_MFCC, n_fft=N_FTT, hop_length=HOP_LENGTH)\n",
        "    mfcc = mfcc.T\n",
        "\n",
        "    return mfcc\n"
      ],
      "metadata": {
        "id": "YZwKlx_grsHi"
      },
      "execution_count": null,
      "outputs": []
    },
    {
      "cell_type": "code",
      "source": [
        "genre_dict = {0:\"hiphop\",1:\"country\",2:\"jazz\",3:\"classical\",4:\"metal\",5:\"pop\",6:\"rock\",7:\"blues\",8:\"reggae\",9:\"disco\"}\n",
        "     "
      ],
      "metadata": {
        "id": "xbst3nENr2_S"
      },
      "execution_count": null,
      "outputs": []
    },
    {
      "cell_type": "code",
      "source": [
        "new_input_mfcc = process_input(\"/content/drive/My Drive/Grad-Spring/ITCS-5156/Moonlight Sonata 1st Movement - Short Version (HD).mp3\", 30)"
      ],
      "metadata": {
        "id": "YanQkGfkr67A"
      },
      "execution_count": null,
      "outputs": []
    },
    {
      "cell_type": "code",
      "source": [
        "\n",
        "type(new_input_mfcc)"
      ],
      "metadata": {
        "colab": {
          "base_uri": "https://localhost:8080/"
        },
        "id": "ntKSRSOwr8Zd",
        "outputId": "2ccccc9b-ddb2-412e-c641-05e60415ec49"
      },
      "execution_count": null,
      "outputs": [
        {
          "output_type": "execute_result",
          "data": {
            "text/plain": [
              "numpy.ndarray"
            ]
          },
          "metadata": {},
          "execution_count": 55
        }
      ]
    },
    {
      "cell_type": "code",
      "source": [
        "new_input_mfcc.shape"
      ],
      "metadata": {
        "colab": {
          "base_uri": "https://localhost:8080/"
        },
        "id": "5L91_d4gtu_t",
        "outputId": "9525dbc2-6e98-4d86-fe61-14355dc5a002"
      },
      "execution_count": null,
      "outputs": [
        {
          "output_type": "execute_result",
          "data": {
            "text/plain": [
              "(130, 13)"
            ]
          },
          "metadata": {},
          "execution_count": 56
        }
      ]
    },
    {
      "cell_type": "code",
      "source": [
        "X_to_predict = new_input_mfcc[np.newaxis, ..., np.newaxis]\n",
        "X_to_predict.shape\n",
        "     "
      ],
      "metadata": {
        "colab": {
          "base_uri": "https://localhost:8080/"
        },
        "id": "mQ6q4Xh0twJj",
        "outputId": "c8f35187-4333-4631-d4c1-435cf5a8787c"
      },
      "execution_count": null,
      "outputs": [
        {
          "output_type": "execute_result",
          "data": {
            "text/plain": [
              "(1, 130, 13, 1)"
            ]
          },
          "metadata": {},
          "execution_count": 57
        }
      ]
    },
    {
      "cell_type": "code",
      "source": [
        "\n",
        "prediction = model_cnn.predict(X_to_predict)\n",
        "\n",
        "# get index with max value\n",
        "predicted_index = np.argmax(prediction, axis=1)\n",
        "\n",
        "print(\"Predicted Genre:\", genre_dict[int(predicted_index)])\n",
        "     "
      ],
      "metadata": {
        "colab": {
          "base_uri": "https://localhost:8080/"
        },
        "id": "7BBGwsQEtw86",
        "outputId": "f4cda66f-f44b-4efd-9d89-db9cfbb33fde"
      },
      "execution_count": null,
      "outputs": [
        {
          "output_type": "stream",
          "name": "stdout",
          "text": [
            "1/1 [==============================] - 0s 26ms/step\n",
            "Predicted Genre: pop\n"
          ]
        }
      ]
    },
    {
      "cell_type": "code",
      "source": [
        "new_input_mfcc = process_input(\"/content/drive/My Drive/Grad-Spring/ITCS-5156/Filmy Ghost (Sábila Orbe) - KD6-3.7.mp3\", 30)"
      ],
      "metadata": {
        "id": "765ngSVatx6R"
      },
      "execution_count": null,
      "outputs": []
    },
    {
      "cell_type": "code",
      "source": [
        "X_to_predict = new_input_mfcc[np.newaxis, ..., np.newaxis]\n",
        "X_to_predict.shape"
      ],
      "metadata": {
        "colab": {
          "base_uri": "https://localhost:8080/"
        },
        "id": "9lMcbSLXufg0",
        "outputId": "e739dc67-06bc-4d57-fe0e-91ff2f316774"
      },
      "execution_count": null,
      "outputs": [
        {
          "output_type": "execute_result",
          "data": {
            "text/plain": [
              "(1, 130, 13, 1)"
            ]
          },
          "metadata": {},
          "execution_count": 64
        }
      ]
    },
    {
      "cell_type": "code",
      "source": [
        "prediction = model_cnn.predict(X_to_predict)\n",
        "\n",
        "# get index with max value\n",
        "predicted_index = np.argmax(prediction, axis=1)\n",
        "\n",
        "print(\"Predicted Genre:\", genre_dict[int(predicted_index)])"
      ],
      "metadata": {
        "colab": {
          "base_uri": "https://localhost:8080/"
        },
        "id": "SgeNkuZkuhKu",
        "outputId": "ab0f6114-824b-4c33-f2e1-045939e2c4ea"
      },
      "execution_count": null,
      "outputs": [
        {
          "output_type": "stream",
          "name": "stdout",
          "text": [
            "1/1 [==============================] - 0s 19ms/step\n",
            "Predicted Genre: pop\n"
          ]
        }
      ]
    },
    {
      "cell_type": "code",
      "source": [],
      "metadata": {
        "id": "2Uaxrf6GuiYj"
      },
      "execution_count": null,
      "outputs": []
    }
  ]
}